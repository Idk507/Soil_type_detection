{
 "cells": [
  {
   "cell_type": "code",
   "execution_count": 1,
   "metadata": {},
   "outputs": [],
   "source": [
    "import tensorflow as tf \n",
    "import numpy as np\n",
    "import pandas as pd \n",
    "from tensorflow import keras\n",
    "import os"
   ]
  },
  {
   "cell_type": "code",
   "execution_count": 2,
   "metadata": {},
   "outputs": [],
   "source": [
    "image_size = 220\n",
    "batch_size = 10\n",
    "\n",
    "\n",
    "target_size = (image_size, image_size)\n",
    "input_shape = (image_size, image_size, 3)"
   ]
  },
  {
   "cell_type": "code",
   "execution_count": 3,
   "metadata": {},
   "outputs": [],
   "source": [
    "from tensorflow.keras.preprocessing.image import ImageDataGenerator\n"
   ]
  },
  {
   "cell_type": "code",
   "execution_count": 4,
   "metadata": {},
   "outputs": [
    {
     "name": "stdout",
     "output_type": "stream",
     "text": [
      "Found 156 images belonging to 5 classes.\n"
     ]
    }
   ],
   "source": [
    "train_datagen = ImageDataGenerator(rescale = 1/255)\n",
    "train_generator = train_datagen.flow_from_directory('./Soil types',target_size=(200,200),batch_size=batch_size,classes =['Black Soil','Cinder Soil', 'Laterite Soil','Peat Soil','Yellow Soil'],class_mode = 'categorical')\n",
    "\n"
   ]
  },
  {
   "cell_type": "code",
   "execution_count": 5,
   "metadata": {},
   "outputs": [
    {
     "name": "stdout",
     "output_type": "stream",
     "text": [
      "(10, 200, 200, 3) (10, 5)\n"
     ]
    }
   ],
   "source": [
    "for image_batch,label_batch in train_generator:\n",
    "    break \n",
    "\n",
    "print(image_batch.shape,label_batch.shape)"
   ]
  },
  {
   "cell_type": "code",
   "execution_count": 6,
   "metadata": {},
   "outputs": [
    {
     "name": "stdout",
     "output_type": "stream",
     "text": [
      "{'Black Soil': 0, 'Cinder Soil': 1, 'Laterite Soil': 2, 'Peat Soil': 3, 'Yellow Soil': 4}\n"
     ]
    }
   ],
   "source": [
    "print(train_generator.class_indices)"
   ]
  },
  {
   "cell_type": "code",
   "execution_count": 7,
   "metadata": {},
   "outputs": [],
   "source": [
    "model = tf.keras.models.Sequential([\n",
    "    # The first convolution\n",
    "    tf.keras.layers.Conv2D(16, (3,3), activation='relu', input_shape=(220, 220, 3)),\n",
    "    tf.keras.layers.MaxPooling2D(2, 2),\n",
    "    # The second convolution\n",
    "    tf.keras.layers.Conv2D(32, (3,3), activation='relu'),\n",
    "    tf.keras.layers.MaxPooling2D(2,2),\n",
    "    # The third convolution\n",
    "    tf.keras.layers.Conv2D(64, (3,3), activation='relu'),\n",
    "    tf.keras.layers.MaxPooling2D(2,2),\n",
    "    # The fourth convolution\n",
    "    tf.keras.layers.Conv2D(64, (3,3), activation='relu'),\n",
    "    tf.keras.layers.MaxPooling2D(2,2),\n",
    "    # The fifth convolution\n",
    "    tf.keras.layers.Conv2D(64, (3,3), activation='relu'),\n",
    "    tf.keras.layers.MaxPooling2D(2,2),\n",
    "    \n",
    "    # Flatten the results to feed into a dense layer\n",
    "    tf.keras.layers.Flatten(),\n",
    "    # 128 neuron in the fully-connected layer\n",
    "    tf.keras.layers.Dense(128, activation='relu'),\n",
    "    # 5 output neurons for 5 classes with the softmax activation\n",
    "    tf.keras.layers.Dense(5, activation='softmax')\n",
    "\n",
    "])"
   ]
  },
  {
   "cell_type": "code",
   "execution_count": 8,
   "metadata": {},
   "outputs": [
    {
     "name": "stdout",
     "output_type": "stream",
     "text": [
      "Model: \"sequential\"\n",
      "_________________________________________________________________\n",
      " Layer (type)                Output Shape              Param #   \n",
      "=================================================================\n",
      " conv2d (Conv2D)             (None, 218, 218, 16)      448       \n",
      "                                                                 \n",
      " max_pooling2d (MaxPooling2D  (None, 109, 109, 16)     0         \n",
      " )                                                               \n",
      "                                                                 \n",
      " conv2d_1 (Conv2D)           (None, 107, 107, 32)      4640      \n",
      "                                                                 \n",
      " max_pooling2d_1 (MaxPooling  (None, 53, 53, 32)       0         \n",
      " 2D)                                                             \n",
      "                                                                 \n",
      " conv2d_2 (Conv2D)           (None, 51, 51, 64)        18496     \n",
      "                                                                 \n",
      " max_pooling2d_2 (MaxPooling  (None, 25, 25, 64)       0         \n",
      " 2D)                                                             \n",
      "                                                                 \n",
      " conv2d_3 (Conv2D)           (None, 23, 23, 64)        36928     \n",
      "                                                                 \n",
      " max_pooling2d_3 (MaxPooling  (None, 11, 11, 64)       0         \n",
      " 2D)                                                             \n",
      "                                                                 \n",
      " conv2d_4 (Conv2D)           (None, 9, 9, 64)          36928     \n",
      "                                                                 \n",
      " max_pooling2d_4 (MaxPooling  (None, 4, 4, 64)         0         \n",
      " 2D)                                                             \n",
      "                                                                 \n",
      " flatten (Flatten)           (None, 1024)              0         \n",
      "                                                                 \n",
      " dense (Dense)               (None, 128)               131200    \n",
      "                                                                 \n",
      " dense_1 (Dense)             (None, 5)                 645       \n",
      "                                                                 \n",
      "=================================================================\n",
      "Total params: 229,285\n",
      "Trainable params: 229,285\n",
      "Non-trainable params: 0\n",
      "_________________________________________________________________\n"
     ]
    }
   ],
   "source": [
    "model.summary()"
   ]
  },
  {
   "cell_type": "code",
   "execution_count": 9,
   "metadata": {},
   "outputs": [],
   "source": [
    "from tensorflow.keras.optimizers import RMSprop\n",
    "\n",
    "model.compile(loss='categorical_crossentropy',\n",
    "              optimizer=RMSprop(learning_rate=0.001),\n",
    "              metrics=['acc'])"
   ]
  },
  {
   "cell_type": "code",
   "execution_count": 10,
   "metadata": {},
   "outputs": [],
   "source": [
    "total_sample = train_generator.n\n",
    "n_epochs = 30"
   ]
  },
  {
   "cell_type": "code",
   "execution_count": 11,
   "metadata": {},
   "outputs": [
    {
     "name": "stdout",
     "output_type": "stream",
     "text": [
      "Epoch 1/30\n",
      "15/15 [==============================] - 3s 150ms/step - loss: 1.6239 - acc: 0.1849\n",
      "Epoch 2/30\n",
      "15/15 [==============================] - 2s 150ms/step - loss: 1.4858 - acc: 0.2808\n",
      "Epoch 3/30\n",
      "15/15 [==============================] - 2s 162ms/step - loss: 1.1948 - acc: 0.4247\n",
      "Epoch 4/30\n",
      "15/15 [==============================] - 2s 153ms/step - loss: 1.0591 - acc: 0.4452\n",
      "Epoch 5/30\n",
      "15/15 [==============================] - 2s 144ms/step - loss: 1.0212 - acc: 0.4315\n",
      "Epoch 6/30\n",
      "15/15 [==============================] - 2s 157ms/step - loss: 1.0654 - acc: 0.4384\n",
      "Epoch 7/30\n",
      "15/15 [==============================] - 2s 150ms/step - loss: 1.0519 - acc: 0.3836\n",
      "Epoch 8/30\n",
      "15/15 [==============================] - 2s 140ms/step - loss: 1.0384 - acc: 0.4795\n",
      "Epoch 9/30\n",
      "15/15 [==============================] - 2s 149ms/step - loss: 0.9786 - acc: 0.5205\n",
      "Epoch 10/30\n",
      "15/15 [==============================] - 2s 149ms/step - loss: 0.8807 - acc: 0.5068\n",
      "Epoch 11/30\n",
      "15/15 [==============================] - 2s 151ms/step - loss: 0.9540 - acc: 0.5753\n",
      "Epoch 12/30\n",
      "15/15 [==============================] - 2s 142ms/step - loss: 0.8478 - acc: 0.6027\n",
      "Epoch 13/30\n",
      "15/15 [==============================] - 2s 138ms/step - loss: 0.6978 - acc: 0.6849\n",
      "Epoch 14/30\n",
      "15/15 [==============================] - 2s 153ms/step - loss: 0.6913 - acc: 0.6849\n",
      "Epoch 15/30\n",
      "15/15 [==============================] - 2s 133ms/step - loss: 0.6750 - acc: 0.7466\n",
      "Epoch 16/30\n",
      "15/15 [==============================] - 2s 162ms/step - loss: 0.7427 - acc: 0.7329\n",
      "Epoch 17/30\n",
      "15/15 [==============================] - 2s 147ms/step - loss: 0.6241 - acc: 0.8014\n",
      "Epoch 18/30\n",
      "15/15 [==============================] - 2s 158ms/step - loss: 0.6984 - acc: 0.7534\n",
      "Epoch 19/30\n",
      "15/15 [==============================] - 2s 152ms/step - loss: 0.5391 - acc: 0.7808\n",
      "Epoch 20/30\n",
      "15/15 [==============================] - 2s 138ms/step - loss: 0.5305 - acc: 0.7808\n",
      "Epoch 21/30\n",
      "15/15 [==============================] - 2s 127ms/step - loss: 0.5197 - acc: 0.7808\n",
      "Epoch 22/30\n",
      "15/15 [==============================] - 2s 142ms/step - loss: 0.5698 - acc: 0.7945\n",
      "Epoch 23/30\n",
      "15/15 [==============================] - 2s 144ms/step - loss: 0.5378 - acc: 0.8356\n",
      "Epoch 24/30\n",
      "15/15 [==============================] - 2s 133ms/step - loss: 0.5076 - acc: 0.8288\n",
      "Epoch 25/30\n",
      "15/15 [==============================] - 2s 133ms/step - loss: 0.4170 - acc: 0.8288\n",
      "Epoch 26/30\n",
      "15/15 [==============================] - 2s 127ms/step - loss: 0.5231 - acc: 0.8356\n",
      "Epoch 27/30\n",
      "15/15 [==============================] - 2s 134ms/step - loss: 0.3584 - acc: 0.8562\n",
      "Epoch 28/30\n",
      "15/15 [==============================] - 2s 145ms/step - loss: 0.5221 - acc: 0.8200\n",
      "Epoch 29/30\n",
      "15/15 [==============================] - 2s 147ms/step - loss: 0.3834 - acc: 0.8356\n",
      "Epoch 30/30\n",
      "15/15 [==============================] - 2s 142ms/step - loss: 0.3146 - acc: 0.8836\n"
     ]
    }
   ],
   "source": [
    "history = model.fit(\n",
    "        train_generator, \n",
    "        steps_per_epoch = int(total_sample/batch_size),  \n",
    "        epochs = n_epochs,\n",
    "        verbose = 1)"
   ]
  },
  {
   "cell_type": "code",
   "execution_count": 12,
   "metadata": {},
   "outputs": [
    {
     "data": {
      "image/png": "[encoded data removed]",
      "text/plain": [
       "<Figure size 700x400 with 1 Axes>"
      ]
     },
     "metadata": {},
     "output_type": "display_data"
    }
   ],
   "source": [
    "import matplotlib.pyplot as plt\n",
    "\n",
    "\n",
    "plt.figure(figsize=(7,4))\n",
    "plt.plot([i+1 for i in range(n_epochs)],history.history['acc'],'-o',c='k',lw=2,markersize=9)\n",
    "plt.grid(True)\n",
    "plt.title(\"Training accuracy with epochs\\n\",fontsize=18)\n",
    "plt.xlabel(\"Training epochs\",fontsize=15)\n",
    "plt.ylabel(\"Training accuracy\",fontsize=15)\n",
    "plt.xticks(fontsize=15)\n",
    "plt.yticks(fontsize=15)\n",
    "plt.show()"
   ]
  },
  {
   "cell_type": "code",
   "execution_count": 13,
   "metadata": {},
   "outputs": [],
   "source": [
    "model.save('my_model.h5')"
   ]
  },
  {
   "cell_type": "code",
   "execution_count": 14,
   "metadata": {},
   "outputs": [
    {
     "name": "stderr",
     "output_type": "stream",
     "text": [
      "WARNING:absl:Found untraced functions such as _jit_compiled_convolution_op, _jit_compiled_convolution_op, _jit_compiled_convolution_op, _jit_compiled_convolution_op, _jit_compiled_convolution_op while saving (showing 5 of 5). These functions will not be directly callable after loading.\n"
     ]
    },
    {
     "name": "stdout",
     "output_type": "stream",
     "text": [
      "INFO:tensorflow:Assets written to: save_model/assets\n"
     ]
    },
    {
     "name": "stderr",
     "output_type": "stream",
     "text": [
      "INFO:tensorflow:Assets written to: save_model/assets\n"
     ]
    }
   ],
   "source": [
    "model.save(filepath=\"save_model/\")"
   ]
  }
 ],
 "metadata": {
  "kernelspec": {
   "display_name": "Python 3",
   "language": "python",
   "name": "python3"
  },
  "language_info": {
   "codemirror_mode": {
    "name": "ipython",
    "version": 3
   },
   "file_extension": ".py",
   "mimetype": "text/x-python",
   "name": "python",
   "nbconvert_exporter": "python",
   "pygments_lexer": "ipython3",
   "version": "3.10.13"
  }
 },
 "nbformat": 4,
 "nbformat_minor": 2
}
